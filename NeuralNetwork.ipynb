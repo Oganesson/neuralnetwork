{
 "cells": [
  {
   "cell_type": "code",
   "execution_count": 1,
   "metadata": {},
   "outputs": [],
   "source": [
    "# Run this cell first to import the required modules\n",
    "import random\n",
    "import numpy as np\n",
    "import matplotlib\n",
    "import matplotlib.pyplot as plt\n",
    "import mnist_loader"
   ]
  },
  {
   "cell_type": "code",
   "execution_count": 2,
   "metadata": {},
   "outputs": [],
   "source": [
    "# Credit: Michael Nielsen, December 2017, \"Neural Networks and Deep Learning\"\n",
    "# With adjustments to update code to newer version of Python and plumbing by Jeremiah Z. Griffin, May 2018\n",
    "\n",
    "\"\"\"\n",
    "A module to implement the stochastic gradient descent learning\n",
    "algorithm for a feedforward neural network.  Gradients are calculated\n",
    "using backpropagation.  Note that I have focused on making the code\n",
    "simple, easily readable, and easily modifiable.  It is not optimized,\n",
    "and omits many desirable features.\n",
    "\"\"\"\n",
    "\n",
    "class Network(object):\n",
    "\n",
    "    def __init__(self, sizes):\n",
    "        \"\"\"The list ``sizes`` contains the number of neurons in the\n",
    "        respective layers of the network.  For example, if the list\n",
    "        was [2, 3, 1] then it would be a three-layer network, with the\n",
    "        first layer containing 2 neurons, the second layer 3 neurons,\n",
    "        and the third layer 1 neuron.  The biases and weights for the\n",
    "        network are initialized randomly, using a Gaussian\n",
    "        distribution with mean 0, and variance 1.  Note that the first\n",
    "        layer is assumed to be an input layer, and by convention we\n",
    "        won't set any biases for those neurons, since biases are only\n",
    "        ever used in computing the outputs from later layers.\"\"\"\n",
    "        self.num_layers = len(sizes)\n",
    "        self.sizes = sizes\n",
    "        self.biases = [np.random.randn(y, 1) for y in sizes[1:]]\n",
    "        self.weights = [np.random.randn(y, x)\n",
    "                        for x, y in zip(sizes[:-1], sizes[1:])]\n",
    "\n",
    "    def feedforward(self, a):\n",
    "        \"\"\"Return the output of the network if ``a`` is input.\"\"\"\n",
    "        for b, w in zip(self.biases, self.weights):\n",
    "            a = sigmoid(np.dot(w, a)+b)\n",
    "        return a\n",
    "\n",
    "    def SGD(self, training_data, epochs, mini_batch_size, eta,\n",
    "            test_data=None):\n",
    "        \"\"\"Train the neural network using mini-batch stochastic\n",
    "        gradient descent.  The ``training_data`` is a list of tuples\n",
    "        ``(x, y)`` representing the training inputs and the desired\n",
    "        outputs.  The other non-optional parameters are\n",
    "        self-explanatory.  If ``test_data`` is provided then the\n",
    "        network will be evaluated against the test data after each\n",
    "        epoch, and partial progress printed out.  This is useful for\n",
    "        tracking progress, but slows things down substantially.\"\"\"\n",
    "        if test_data: n_test = len(test_data)\n",
    "        n = len(training_data)\n",
    "        error_rates = []\n",
    "        for j in range(epochs):\n",
    "            random.shuffle(training_data)\n",
    "            mini_batches = [\n",
    "                training_data[k:k+mini_batch_size]\n",
    "                for k in range(0, n, mini_batch_size)]\n",
    "            for mini_batch in mini_batches:\n",
    "                self.update_mini_batch(mini_batch, eta)\n",
    "            if test_data:\n",
    "                n_correct = self.evaluate(test_data)\n",
    "                accuracy_rate = n_correct / n_test\n",
    "                error_rate = 1 - accuracy_rate\n",
    "                error_rates.append(error_rate)\n",
    "                print(\"Epoch {0}: {1} / {2} correct ({3:.2%} error)\".format(\n",
    "                    j + 1, n_correct, n_test, error_rate))\n",
    "            else:\n",
    "                print(\"Epoch {0} complete\".format(j + 1))\n",
    "        return error_rates\n",
    "\n",
    "    def update_mini_batch(self, mini_batch, eta):\n",
    "        \"\"\"Update the network's weights and biases by applying\n",
    "        gradient descent using backpropagation to a single mini batch.\n",
    "        The ``mini_batch`` is a list of tuples ``(x, y)``, and ``eta``\n",
    "        is the learning rate.\"\"\"\n",
    "        nabla_b = [np.zeros(b.shape) for b in self.biases]\n",
    "        nabla_w = [np.zeros(w.shape) for w in self.weights]\n",
    "        for x, y in mini_batch:\n",
    "            delta_nabla_b, delta_nabla_w = self.backprop(x, y)\n",
    "            nabla_b = [nb+dnb for nb, dnb in zip(nabla_b, delta_nabla_b)]\n",
    "            nabla_w = [nw+dnw for nw, dnw in zip(nabla_w, delta_nabla_w)]\n",
    "        self.weights = [w-(eta/len(mini_batch))*nw\n",
    "                        for w, nw in zip(self.weights, nabla_w)]\n",
    "        self.biases = [b-(eta/len(mini_batch))*nb\n",
    "                       for b, nb in zip(self.biases, nabla_b)]\n",
    "\n",
    "    def backprop(self, x, y):\n",
    "        \"\"\"Return a tuple ``(nabla_b, nabla_w)`` representing the\n",
    "        gradient for the cost function C_x.  ``nabla_b`` and\n",
    "        ``nabla_w`` are layer-by-layer lists of numpy arrays, similar\n",
    "        to ``self.biases`` and ``self.weights``.\"\"\"\n",
    "        nabla_b = [np.zeros(b.shape) for b in self.biases]\n",
    "        nabla_w = [np.zeros(w.shape) for w in self.weights]\n",
    "        # feedforward\n",
    "        activation = x\n",
    "        activations = [x] # list to store all the activations, layer by layer\n",
    "        zs = [] # list to store all the z vectors, layer by layer\n",
    "        for b, w in zip(self.biases, self.weights):\n",
    "            z = np.dot(w, activation)+b\n",
    "            zs.append(z)\n",
    "            activation = sigmoid(z)\n",
    "            activations.append(activation)\n",
    "        # backward pass\n",
    "        delta = self.cost_derivative(activations[-1], y) * \\\n",
    "            sigmoid_prime(zs[-1])\n",
    "        nabla_b[-1] = delta\n",
    "        nabla_w[-1] = np.dot(delta, activations[-2].transpose())\n",
    "        # Note that the variable l in the loop below is used a little\n",
    "        # differently to the notation in Chapter 2 of the book.  Here,\n",
    "        # l = 1 means the last layer of neurons, l = 2 is the\n",
    "        # second-last layer, and so on.  It's a renumbering of the\n",
    "        # scheme in the book, used here to take advantage of the fact\n",
    "        # that Python can use negative indices in lists.\n",
    "        for l in range(2, self.num_layers):\n",
    "            z = zs[-l]\n",
    "            sp = sigmoid_prime(z)\n",
    "            delta = np.dot(self.weights[-l+1].transpose(), delta) * sp\n",
    "            nabla_b[-l] = delta\n",
    "            nabla_w[-l] = np.dot(delta, activations[-l-1].transpose())\n",
    "        return (nabla_b, nabla_w)\n",
    "\n",
    "    def evaluate(self, test_data):\n",
    "        \"\"\"Return the number of test inputs for which the neural\n",
    "        network outputs the correct result. Note that the neural\n",
    "        network's output is assumed to be the index of whichever\n",
    "        neuron in the final layer has the highest activation.\"\"\"\n",
    "        test_results = [(np.argmax(self.feedforward(x)), y)\n",
    "                        for (x, y) in test_data]\n",
    "        return sum(int(x == y) for (x, y) in test_results)\n",
    "\n",
    "    def cost_derivative(self, output_activations, y):\n",
    "        \"\"\"Return the vector of partial derivatives \\partial C_x /\n",
    "        \\partial a for the output activations.\"\"\"\n",
    "        return (output_activations-y)\n",
    "\n",
    "#### Miscellaneous functions\n",
    "def sigmoid(z):\n",
    "    \"\"\"The sigmoid function.\"\"\"\n",
    "    return 1.0/(1.0+np.exp(-z))\n",
    "\n",
    "def sigmoid_prime(z):\n",
    "    \"\"\"Derivative of the sigmoid function.\"\"\"\n",
    "    return sigmoid(z)*(1-sigmoid(z))"
   ]
  },
  {
   "cell_type": "code",
   "execution_count": 3,
   "metadata": {},
   "outputs": [
    {
     "name": "stdout",
     "output_type": "stream",
     "text": [
      "Number of training samples: 50000\n",
      "Number of validation samples: 10000\n",
      "Number of test samples: 10000\n"
     ]
    }
   ],
   "source": [
    "# Load the training, validation, and test data sets for the MNIST problem\n",
    "import mnist_loader\n",
    "training_data, validation_data, test_data = mnist_loader.load_data_wrapper('mnist.pkl.gz')\n",
    "training_data, validation_data, test_data = list(training_data), list(validation_data), list(test_data)\n",
    "print('Number of training samples:', len(training_data))\n",
    "print('Number of validation samples:', len(validation_data))\n",
    "print('Number of test samples:', len(test_data))"
   ]
  },
  {
   "cell_type": "code",
   "execution_count": 4,
   "metadata": {},
   "outputs": [],
   "source": [
    "# Configure the network topology and training parameters\n",
    "sizes = [784, 100, 50, 10] # Size of the network layers (input, hiddens, output)\n",
    "epochs = 20 # Number of training iterations\n",
    "mini_batch_size = 10 # Size of the training batches\n",
    "eta = 0.2 # Learning rate"
   ]
  },
  {
   "cell_type": "markdown",
   "metadata": {},
   "source": [
    "Before running through each epoch (including epoch 0), the entire data set is shuffled, so that the mini batches, which cut the data at different points as determined above, have different data in them for each epoch. While running through one epoch, the network runs on the first mini batch, then updates weights and biases, then moves on to the next mini batch. The process is repeated for each epoch.\n",
    "\n",
    "The advantage of the mini batch method is that the network will perform better on each successive mini batch rather than running through the entire data set once before adjusting parameters. The network would perform poorly for the entire data set before making updates. This would also result in one large adjustment after the entire epoch versus many small adjustments after each mini batch throughout the epoch.\n",
    "\n",
    "Outline of the algorithm:\n",
    "(1) Shuffle data set of 50,000 data points\n",
    "(2) Split shuffled data into mini batches of equal size\n",
    "(3) Train each mini batch on the 50,000 data points\n",
    "(4) Adjust weights/biases after each mini batch\n",
    "(5) Once the last batch has been completed and trained, we run the 10,000 test data points through the network and output how well the network performed for the current epoch\n",
    "(6) We repeat the process for the next epoch"
   ]
  },
  {
   "cell_type": "code",
   "execution_count": 5,
   "metadata": {},
   "outputs": [
    {
     "name": "stdout",
     "output_type": "stream",
     "text": [
      "Epoch 1: 7311 / 10000 correct (26.89% error)\n",
      "Epoch 2: 7836 / 10000 correct (21.64% error)\n",
      "Epoch 3: 8019 / 10000 correct (19.81% error)\n",
      "Epoch 4: 8119 / 10000 correct (18.81% error)\n",
      "Epoch 5: 8211 / 10000 correct (17.89% error)\n",
      "Epoch 6: 8257 / 10000 correct (17.43% error)\n",
      "Epoch 7: 8309 / 10000 correct (16.91% error)\n",
      "Epoch 8: 8348 / 10000 correct (16.52% error)\n",
      "Epoch 9: 8372 / 10000 correct (16.28% error)\n",
      "Epoch 10: 8383 / 10000 correct (16.17% error)\n",
      "Epoch 11: 8398 / 10000 correct (16.02% error)\n",
      "Epoch 12: 8413 / 10000 correct (15.87% error)\n",
      "Epoch 13: 8424 / 10000 correct (15.76% error)\n",
      "Epoch 14: 8434 / 10000 correct (15.66% error)\n",
      "Epoch 15: 8450 / 10000 correct (15.50% error)\n",
      "Epoch 16: 8456 / 10000 correct (15.44% error)\n",
      "Epoch 17: 8469 / 10000 correct (15.31% error)\n",
      "Epoch 18: 8476 / 10000 correct (15.24% error)\n",
      "Epoch 19: 8480 / 10000 correct (15.20% error)\n",
      "Epoch 20: 8505 / 10000 correct (14.95% error)\n"
     ]
    }
   ],
   "source": [
    "# Create the network and train it on the training data set\n",
    "# Run on testing data and print out error rates for each epoch\n",
    "clf = Network(sizes)\n",
    "error_rates = clf.SGD(training_data, epochs, mini_batch_size, eta, test_data)"
   ]
  },
  {
   "cell_type": "markdown",
   "metadata": {},
   "source": [
    "Initially, the network will learn fast and then converge to some error rate. To optimize the error rate, an adaptive algorithm is needed for setting the learning rate as training progresses. With such an algorithm, the learning rate could be decreased when a local minimum is reached and the error rate stops improving for some number of epochs."
   ]
  },
  {
   "cell_type": "code",
   "execution_count": 6,
   "metadata": {},
   "outputs": [
    {
     "data": {
      "image/png": "[encoded data removed]",
      "text/plain": [
       "<Figure size 432x288 with 1 Axes>"
      ]
     },
     "metadata": {},
     "output_type": "display_data"
    }
   ],
   "source": [
    "# Code for plotting error rate vs. training epoch\n",
    "fig, ax = plt.subplots()\n",
    "ax.plot(error_rates)\n",
    "\n",
    "ax.set(xlabel='Epoch', ylabel='Error rate',\n",
    "       title='Testing error rate versus training epoch')\n",
    "ax.grid()\n",
    "plt.show()"
   ]
  },
  {
   "cell_type": "code",
   "execution_count": 7,
   "metadata": {},
   "outputs": [
    {
     "data": {
      "image/png": "[encoded data removed]",
      "text/plain": [
       "<Figure size 432x288 with 1 Axes>"
      ]
     },
     "metadata": {},
     "output_type": "display_data"
    },
    {
     "name": "stdout",
     "output_type": "stream",
     "text": [
      "Classified as 3\n"
     ]
    },
    {
     "data": {
      "image/png": "[encoded data removed]",
      "text/plain": [
       "<Figure size 432x288 with 1 Axes>"
      ]
     },
     "metadata": {},
     "output_type": "display_data"
    },
    {
     "name": "stdout",
     "output_type": "stream",
     "text": [
      "Classified as 3\n"
     ]
    },
    {
     "data": {
      "image/png": "[encoded data removed]",
      "text/plain": [
       "<Figure size 432x288 with 1 Axes>"
      ]
     },
     "metadata": {},
     "output_type": "display_data"
    },
    {
     "name": "stdout",
     "output_type": "stream",
     "text": [
      "Classified as 2\n"
     ]
    },
    {
     "data": {
      "image/png": "[encoded data removed]",
      "text/plain": [
       "<Figure size 432x288 with 1 Axes>"
      ]
     },
     "metadata": {},
     "output_type": "display_data"
    },
    {
     "name": "stdout",
     "output_type": "stream",
     "text": [
      "Classified as 1\n"
     ]
    },
    {
     "data": {
      "image/png": "[encoded data removed]",
      "text/plain": [
       "<Figure size 432x288 with 1 Axes>"
      ]
     },
     "metadata": {},
     "output_type": "display_data"
    },
    {
     "name": "stdout",
     "output_type": "stream",
     "text": [
      "Classified as 5\n"
     ]
    },
    {
     "data": {
      "image/png": "[encoded data removed]",
      "text/plain": [
       "<Figure size 432x288 with 1 Axes>"
      ]
     },
     "metadata": {},
     "output_type": "display_data"
    },
    {
     "name": "stdout",
     "output_type": "stream",
     "text": [
      "Classified as 3\n"
     ]
    }
   ],
   "source": [
    "from digit_loader import auto_digitize\n",
    "\n",
    "files = ['scan.png']\n",
    "\n",
    "for file in files:\n",
    "    digit_ims = auto_digitize(file)\n",
    "    for di in digit_ims:\n",
    "        plt.axis('off')\n",
    "        plt.imshow(di, cmap='gray')\n",
    "        plt.show()\n",
    "\n",
    "        x = (1 - di.flatten()).reshape((28 * 28, 1))\n",
    "        y = clf.feedforward(x)\n",
    "        print('Classified as', np.argmax(y))"
   ]
  }
 ],
 "metadata": {
  "kernelspec": {
   "display_name": "Python 3",
   "language": "python",
   "name": "python3"
  },
  "language_info": {
   "codemirror_mode": {
    "name": "ipython",
    "version": 3
   },
   "file_extension": ".py",
   "mimetype": "text/x-python",
   "name": "python",
   "nbconvert_exporter": "python",
   "pygments_lexer": "ipython3",
   "version": "3.6.5"
  }
 },
 "nbformat": 4,
 "nbformat_minor": 2
}
